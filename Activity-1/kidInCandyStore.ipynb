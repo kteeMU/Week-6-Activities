{
 "cells": [
  {
   "cell_type": "code",
   "execution_count": 7,
   "id": "6b3c9371-9b8c-42b2-b2c7-15cf8bbcc845",
   "metadata": {},
   "outputs": [
    {
     "name": "stdout",
     "output_type": "stream",
     "text": [
      "Snickers\n",
      "Snickers\n",
      "Snickers\n",
      "Snickers\n",
      "Snickers\n",
      "Snickers\n",
      "Snickers\n",
      "Snickers\n",
      "Snickers\n"
     ]
    }
   ],
   "source": [
    "candy_list = [\n",
    "    \"Snickers\",\n",
    "    \"Kit Kat\",\n",
    "    \"Sour Patch Kids\",\n",
    "    \"Juicy Fruit\",\n",
    "    \"Swedish Fish\",\n",
    "    \"Skittles\",\n",
    "    \"Hershey Bar\",\n",
    "    \"Starbursts\",\n",
    "    \"M&Ms\"\n",
    "]\n",
    "allowance = 5\n",
    "candy_cart = []\n",
    "\n",
    "for candy in candy_list:\n",
    "    print(str(candy_list[0]))\n",
    "    "
   ]
  },
  {
   "cell_type": "code",
   "execution_count": null,
   "id": "bc09d0b7-f2da-488d-ac71-55bc2dd1907a",
   "metadata": {},
   "outputs": [],
   "source": []
  }
 ],
 "metadata": {
  "kernelspec": {
   "display_name": "Python 3 (ipykernel)",
   "language": "python",
   "name": "python3"
  },
  "language_info": {
   "codemirror_mode": {
    "name": "ipython",
    "version": 3
   },
   "file_extension": ".py",
   "mimetype": "text/x-python",
   "name": "python",
   "nbconvert_exporter": "python",
   "pygments_lexer": "ipython3",
   "version": "3.7.13"
  }
 },
 "nbformat": 4,
 "nbformat_minor": 5
}
