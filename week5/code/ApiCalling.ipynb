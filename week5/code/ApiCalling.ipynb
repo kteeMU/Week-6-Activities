{
 "cells": [
  {
   "cell_type": "code",
   "execution_count": 1,
   "id": "2b8fbf4e-05f1-4e31-8a4f-5650366c87aa",
   "metadata": {},
   "outputs": [],
   "source": [
    "import requests"
   ]
  },
  {
   "cell_type": "code",
   "execution_count": 2,
   "id": "8f5c1ff1-4108-4a8d-8300-aa0933382ee8",
   "metadata": {},
   "outputs": [],
   "source": [
    "# Create variable to hold request url\n",
    "url = \"https://api.coindesk.com/v1/bpi/currentprice.json\""
   ]
  },
  {
   "cell_type": "code",
   "execution_count": 3,
   "id": "af70c288-4129-445c-9847-2e8ea4c6114b",
   "metadata": {},
   "outputs": [],
   "source": [
    "# Add format specifier to request url\n",
    "url = url + \"?format=json\""
   ]
  },
  {
   "cell_type": "code",
   "execution_count": 4,
   "id": "e42231b2-6581-492e-9368-8477cd57f2eb",
   "metadata": {},
   "outputs": [
    {
     "data": {
      "text/plain": [
       "<Response [200]>"
      ]
     },
     "execution_count": 4,
     "metadata": {},
     "output_type": "execute_result"
    }
   ],
   "source": [
    "#execute get request\n",
    "requests.get(url) "
   ]
  },
  {
   "cell_type": "code",
   "execution_count": null,
   "id": "f434e073-3a1d-4c37-8897-88d8ab7b705c",
   "metadata": {},
   "outputs": [],
   "source": [
    "# Execute GET request and store response\n",
    "response_data = requests.get(url)\n"
   ]
  },
  {
   "cell_type": "code",
   "execution_count": 7,
   "id": "f8ab3837-d5ad-4f70-8804-65bd45124af9",
   "metadata": {},
   "outputs": [
    {
     "name": "stdout",
     "output_type": "stream",
     "text": [
      "b'{\"time\":{\"updated\":\"Sep 5, 2022 10:03:00 UTC\",\"updatedISO\":\"2022-09-05T10:03:00+00:00\",\"updateduk\":\"Sep 5, 2022 at 11:03 BST\"},\"disclaimer\":\"This data was produced from the CoinDesk Bitcoin Price Index (USD). Non-USD currency data converted using hourly conversion rate from openexchangerates.org\",\"chartName\":\"Bitcoin\",\"bpi\":{\"USD\":{\"code\":\"USD\",\"symbol\":\"&#36;\",\"rate\":\"19,760.1407\",\"description\":\"United States Dollar\",\"rate_float\":19760.1407},\"GBP\":{\"code\":\"GBP\",\"symbol\":\"&pound;\",\"rate\":\"16,511.4155\",\"description\":\"British Pound Sterling\",\"rate_float\":16511.4155},\"EUR\":{\"code\":\"EUR\",\"symbol\":\"&euro;\",\"rate\":\"19,249.2620\",\"description\":\"Euro\",\"rate_float\":19249.262}}}'\n"
     ]
    }
   ],
   "source": [
    "# Get content\n",
    "response_content = response_data.content\n",
    "print(response_content)"
   ]
  },
  {
   "cell_type": "code",
   "execution_count": 11,
   "id": "e953f9f8-a49f-4d07-8d20-a19be22793a3",
   "metadata": {},
   "outputs": [],
   "source": [
    "import json\n",
    "\n",
    "# Formatting as json\n",
    "data = response_data.json() "
   ]
  },
  {
   "cell_type": "code",
   "execution_count": 9,
   "id": "08999820-83dd-47ac-8e08-077edd01a576",
   "metadata": {},
   "outputs": [
    {
     "name": "stdout",
     "output_type": "stream",
     "text": [
      "{\n",
      "    \"time\": {\n",
      "        \"updated\": \"Sep 5, 2022 10:03:00 UTC\",\n",
      "        \"updatedISO\": \"2022-09-05T10:03:00+00:00\",\n",
      "        \"updateduk\": \"Sep 5, 2022 at 11:03 BST\"\n",
      "    },\n",
      "    \"disclaimer\": \"This data was produced from the CoinDesk Bitcoin Price Index (USD). Non-USD currency data converted using hourly conversion rate from openexchangerates.org\",\n",
      "    \"chartName\": \"Bitcoin\",\n",
      "    \"bpi\": {\n",
      "        \"USD\": {\n",
      "            \"code\": \"USD\",\n",
      "            \"symbol\": \"&#36;\",\n",
      "            \"rate\": \"19,760.1407\",\n",
      "            \"description\": \"United States Dollar\",\n",
      "            \"rate_float\": 19760.1407\n",
      "        },\n",
      "        \"GBP\": {\n",
      "            \"code\": \"GBP\",\n",
      "            \"symbol\": \"&pound;\",\n",
      "            \"rate\": \"16,511.4155\",\n",
      "            \"description\": \"British Pound Sterling\",\n",
      "            \"rate_float\": 16511.4155\n",
      "        },\n",
      "        \"EUR\": {\n",
      "            \"code\": \"EUR\",\n",
      "            \"symbol\": \"&euro;\",\n",
      "            \"rate\": \"19,249.2620\",\n",
      "            \"description\": \"Euro\",\n",
      "            \"rate_float\": 19249.262\n",
      "        }\n",
      "    }\n",
      "}\n"
     ]
    }
   ],
   "source": [
    "# Add indents to JSON and output to screen\n",
    "print(json.dumps(data, indent=4))"
   ]
  },
  {
   "cell_type": "code",
   "execution_count": 41,
   "id": "2dc8664a-1c11-4c9d-bf0a-d9f6da45c076",
   "metadata": {},
   "outputs": [
    {
     "name": "stdout",
     "output_type": "stream",
     "text": [
      "{'code': 'GBP', 'symbol': '&pound;', 'rate': '16,511.4155', 'description': 'British Pound Sterling', 'rate_float': 16511.4155}\n",
      "GBP\n"
     ]
    }
   ],
   "source": [
    "country = data[\"bpi\"][\"GBP\"]\n",
    "\n",
    "country_code = data[\"bpi\"][\"GBP\"]['code']\n",
    "print(country)\n",
    "print(country_code)"
   ]
  },
  {
   "cell_type": "code",
   "execution_count": null,
   "id": "e4672ddc-9c24-4936-80b4-660f6c3a9d94",
   "metadata": {},
   "outputs": [],
   "source": []
  }
 ],
 "metadata": {
  "kernelspec": {
   "display_name": "Python 3 (ipykernel)",
   "language": "python",
   "name": "python3"
  },
  "language_info": {
   "codemirror_mode": {
    "name": "ipython",
    "version": 3
   },
   "file_extension": ".py",
   "mimetype": "text/x-python",
   "name": "python",
   "nbconvert_exporter": "python",
   "pygments_lexer": "ipython3",
   "version": "3.9.12"
  }
 },
 "nbformat": 4,
 "nbformat_minor": 5
}
