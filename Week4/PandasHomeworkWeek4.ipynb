{
 "cells": [
  {
   "cell_type": "code",
   "execution_count": null,
   "id": "4a1249c6-d819-4922-bd11-b40deda17e9e",
   "metadata": {},
   "outputs": [],
   "source": [
    "# Initial imports\n",
    "import pandas as pd\n",
    "import numpy as np\n",
    "import datetime as dt\n",
    "from pathlib import Path\n",
    "\n",
    "%matplotlib inline\n",
    "\n",
    "# set data frames\n",
    "whale_data = Path(\"whale_returns.csv\")\n",
    "algo_data = Path(\"algo_returns.csv\")\n",
    "otex_data = Path(\"otex_historical.csv\")\n",
    "sp_tsx_data = Path(\"sp_tsx_history.csv\")\n",
    "shop_data = Path(\"shop_historical.csv\")\n",
    "i_hist_data = Path(\"l_historical.csv\")\n",
    "\n",
    "# Read the CSVs and set the `date` column as a datetime index to the DataFrame\n",
    "whale_data = pd.read_csv(whale_data, index_col=\"Date\", infer_datetime_format=True, parse_dates=True)\n",
    "algo_data = pd.read_csv(algo_data, index_col=\"Date\", infer_datetime_format=True, parse_dates=True)\n",
    "otex_data = pd.read_csv(otex_data, index_col=\"Date\", infer_datetime_format=True, parse_dates=True)\n",
    "sp_tsx_data = pd.read_csv(sp_tsx_data, index_col=\"Date\", infer_datetime_format=True, parse_dates=True)\n",
    "shop_data = pd.read_csv(shop_data, index_col=\"Date\", infer_datetime_format=True, parse_dates=True)\n",
    "i_hist_data = pd.read_csv(i_hist_data, index_col=\"Date\", infer_datetime_format=True, parse_dates=True)\n",
    "\n",
    "\n",
    "# Display a few rows from one DataFrame\n",
    "i_hist_data.head() "
   ]
  },
  {
   "cell_type": "code",
   "execution_count": 7,
   "id": "85030fa3-b7f8-430e-b10a-11ed73612b16",
   "metadata": {},
   "outputs": [
    {
     "ename": "NameError",
     "evalue": "name 'path' is not defined",
     "output_type": "error",
     "traceback": [
      "\u001b[0;31m---------------------------------------------------------------------------\u001b[0m",
      "\u001b[0;31mNameError\u001b[0m                                 Traceback (most recent call last)",
      "Input \u001b[0;32mIn [7]\u001b[0m, in \u001b[0;36m<cell line: 1>\u001b[0;34m()\u001b[0m\n\u001b[0;32m----> 1\u001b[0m \u001b[43mpath\u001b[49m()\n",
      "\u001b[0;31mNameError\u001b[0m: name 'path' is not defined"
     ]
    }
   ],
   "source": []
  },
  {
   "cell_type": "code",
   "execution_count": null,
   "id": "1b87cd4f-aefc-42e6-9072-f3883aeb9312",
   "metadata": {},
   "outputs": [],
   "source": []
  },
  {
   "cell_type": "code",
   "execution_count": null,
   "id": "6369ca53-f698-4086-b3ef-19441a00b089",
   "metadata": {},
   "outputs": [],
   "source": []
  }
 ],
 "metadata": {
  "kernelspec": {
   "display_name": "dev",
   "language": "python",
   "name": "dev"
  },
  "language_info": {
   "codemirror_mode": {
    "name": "ipython",
    "version": 3
   },
   "file_extension": ".py",
   "mimetype": "text/x-python",
   "name": "python",
   "nbconvert_exporter": "python",
   "pygments_lexer": "ipython3",
   "version": "3.7.13"
  }
 },
 "nbformat": 4,
 "nbformat_minor": 5
}
