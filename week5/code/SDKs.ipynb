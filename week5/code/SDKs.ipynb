{
 "cells": [
  {
   "cell_type": "code",
   "execution_count": 37,
   "id": "7b8a1567-9936-4462-a0d5-dce028011d1c",
   "metadata": {},
   "outputs": [
    {
     "name": "stdout",
     "output_type": "stream",
     "text": [
      "      shares\n",
      "MSFT     200\n",
      "AAPL     320\n"
     ]
    }
   ],
   "source": [
    "#initial imports\n",
    "import os\n",
    "import requests\n",
    "import pandas as pd\n",
    "from dotenv import load_dotenv\n",
    "import alpaca_trade_api as tradeapi\n",
    "\n",
    "%matplotlib inline\n",
    "\n",
    "# Set current amount of shares data\n",
    "shares = [200,320]\n",
    "\n",
    "# Set the tickers\n",
    "tickers = [\"MSFT\",\"AAPL\"]\n",
    "\n",
    "#create dataframe\n",
    "df_shares = pd.DataFrame(shares, tickers, columns=['shares'])\n",
    "\n",
    "print(df_shares)"
   ]
  },
  {
   "cell_type": "code",
   "execution_count": 38,
   "id": "43f3e193-b258-456e-8c2b-5c8ca9cbd8f8",
   "metadata": {},
   "outputs": [
    {
     "data": {
      "text/plain": [
       "True"
      ]
     },
     "execution_count": 38,
     "metadata": {},
     "output_type": "execute_result"
    }
   ],
   "source": [
    "#load .env environment variables\n",
    "load_dotenv()"
   ]
  },
  {
   "cell_type": "code",
   "execution_count": 39,
   "id": "dab7bb42-dcee-43d6-b707-66eea9fe7810",
   "metadata": {},
   "outputs": [
    {
     "data": {
      "text/plain": [
       "str"
      ]
     },
     "execution_count": 39,
     "metadata": {},
     "output_type": "execute_result"
    }
   ],
   "source": [
    "# set alpaca API key and secret\n",
    "alpaca_api_key = os.getenv(\"ALPACA_API_KEY\")\n",
    "alpaca_secret_key = os.getenv(\"ALPACA_SECRET_KEY\")\n",
    "type(alpaca_api_key)\n"
   ]
  },
  {
   "cell_type": "code",
   "execution_count": 40,
   "id": "8b36f351-0566-4902-8af9-f02a1ddc2b25",
   "metadata": {},
   "outputs": [
    {
     "data": {
      "text/plain": [
       "str"
      ]
     },
     "execution_count": 40,
     "metadata": {},
     "output_type": "execute_result"
    }
   ],
   "source": [
    "type(alpaca_secret_key)"
   ]
  },
  {
   "cell_type": "code",
   "execution_count": 41,
   "id": "7ea5c42b-4af2-47c2-95c9-65bf05700911",
   "metadata": {},
   "outputs": [],
   "source": [
    "#create ALPACA API OBJECT\n",
    "alpaca = tradeapi.REST(\n",
    "    alpaca_api_key,\n",
    "    alpaca_secret_key,\n",
    "    api_version=\"v2\")\n"
   ]
  },
  {
   "cell_type": "code",
   "execution_count": 42,
   "id": "515cccaf-b277-4cc2-96b2-ea5fe8adba09",
   "metadata": {},
   "outputs": [
    {
     "name": "stdout",
     "output_type": "stream",
     "text": [
      "2022-09-01T00:00:00-04:00\n"
     ]
    }
   ],
   "source": [
    "# Format current date as ISO format\n",
    "today = pd.Timestamp(\"2022-09-01\",tz=\"America/New_York\").isoformat()\n",
    "print(today)"
   ]
  },
  {
   "cell_type": "code",
   "execution_count": 43,
   "id": "7603bc7b-5301-4488-b764-89c342186870",
   "metadata": {},
   "outputs": [
    {
     "name": "stdout",
     "output_type": "stream",
     "text": [
      "1Day\n"
     ]
    }
   ],
   "source": [
    "# Set timeframe to one day ('1Day') for the Alpaca API\n",
    "# YOUR CODE HERE! \n",
    "\n",
    "timeframe = \"1Day\"\n",
    "print(timeframe)"
   ]
  },
  {
   "cell_type": "code",
   "execution_count": 44,
   "id": "a57ffd79-2ef3-4bdb-9e64-1b5e672f51e0",
   "metadata": {},
   "outputs": [
    {
     "name": "stdout",
     "output_type": "stream",
     "text": [
      "                             open    high     low   close    volume  \\\n",
      "timestamp                                                             \n",
      "2022-09-01 04:00:00+00:00  156.67  158.42  154.67  157.96  74224560   \n",
      "2022-09-01 04:00:00+00:00  259.01  260.89  255.41  260.40  23260437   \n",
      "\n",
      "                           trade_count        vwap symbol  \n",
      "timestamp                                                  \n",
      "2022-09-01 04:00:00+00:00       654608  156.523257   AAPL  \n",
      "2022-09-01 04:00:00+00:00       332318  258.256774   MSFT  \n"
     ]
    }
   ],
   "source": [
    "#Create a DataFrame with current price data for MSFT & AAPL using alpaca.get_bars()\n",
    "# In [9]:  # Get current price data for MSFT and AAPL\n",
    "# YOUR CODE HERE!\n",
    "\n",
    "df_portfolio = alpaca.get_bars(\n",
    "    tickers,\n",
    "    timeframe,\n",
    "    start = today,\n",
    "    end = today\n",
    ").df\n",
    "\n",
    "print(df_portfolio)"
   ]
  },
  {
   "cell_type": "code",
   "execution_count": 49,
   "id": "4bf4cb00-b9a3-4575-b006-e0cce6e38e55",
   "metadata": {},
   "outputs": [],
   "source": [
    "AAPL = df_portfolio[df_portfolio['symbol']=='AAPL'].drop('symbol', axis=1)"
   ]
  },
  {
   "cell_type": "code",
   "execution_count": 50,
   "id": "1f578168-0ece-46e8-ab24-6f891323a173",
   "metadata": {},
   "outputs": [
    {
     "name": "stdout",
     "output_type": "stream",
     "text": [
      "                             open    high     low   close    volume  \\\n",
      "timestamp                                                             \n",
      "2022-09-01 04:00:00+00:00  156.67  158.42  154.67  157.96  74224560   \n",
      "\n",
      "                           trade_count        vwap  \n",
      "timestamp                                           \n",
      "2022-09-01 04:00:00+00:00       654608  156.523257  \n"
     ]
    }
   ],
   "source": [
    "print(AAPL)"
   ]
  },
  {
   "cell_type": "code",
   "execution_count": null,
   "id": "85148fd4-14e0-4eee-b25d-823f8ba62b61",
   "metadata": {},
   "outputs": [],
   "source": []
  }
 ],
 "metadata": {
  "kernelspec": {
   "display_name": "Python 3 (ipykernel)",
   "language": "python",
   "name": "python3"
  },
  "language_info": {
   "codemirror_mode": {
    "name": "ipython",
    "version": 3
   },
   "file_extension": ".py",
   "mimetype": "text/x-python",
   "name": "python",
   "nbconvert_exporter": "python",
   "pygments_lexer": "ipython3",
   "version": "3.9.12"
  }
 },
 "nbformat": 4,
 "nbformat_minor": 5
}
